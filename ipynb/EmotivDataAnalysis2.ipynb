{
 "metadata": {
  "name": "",
  "signature": "sha256:bf0fbbc8fddcce1f6efb1065fd8c3fc057688e760906b00248e102ce5ddbc894"
 },
 "nbformat": 3,
 "nbformat_minor": 0,
 "worksheets": [
  {
   "cells": [
    {
     "cell_type": "code",
     "collapsed": false,
     "input": [
      "%matplotlib inline\n",
      "participant_num = 1\n",
      "journal_file = \"../participant_data/log/journal_2_2015.01.31.02.20\"\n",
      "eeg_file = \"../participant_data/eeg/eeg_2_2015.01.31.02.20\""
     ],
     "language": "python",
     "metadata": {},
     "outputs": [],
     "prompt_number": 1
    },
    {
     "cell_type": "code",
     "collapsed": false,
     "input": [
      "import numpy as np\n",
      "from parseEEGRaw import *\n",
      "import matplotlib.pyplot as plt\n",
      "from scipy import signal\n",
      "import sklearn\n",
      "from sklearn import decomposition\n",
      "from sklearn import lda\n",
      "from sklearn import tree\n",
      "from sklearn import ensemble\n",
      "from scipy import fft\n",
      "from copy import deepcopy\n",
      "import random\n",
      "print \"Done importing\""
     ],
     "language": "python",
     "metadata": {},
     "outputs": [
      {
       "output_type": "stream",
       "stream": "stdout",
       "text": [
        "Done importing\n"
       ]
      }
     ],
     "prompt_number": 38
    },
    {
     "cell_type": "code",
     "collapsed": false,
     "input": [
      "journal = Journal(journal_file)\n",
      "eegdata = parseToArray(eeg_file)\n",
      "ced_labels = parseCedToArray('../emotiv.ced')"
     ],
     "language": "python",
     "metadata": {},
     "outputs": [],
     "prompt_number": 3
    },
    {
     "cell_type": "code",
     "collapsed": false,
     "input": [
      "data = EEGData(journal, eegdata)"
     ],
     "language": "python",
     "metadata": {},
     "outputs": [],
     "prompt_number": 4
    },
    {
     "cell_type": "raw",
     "metadata": {},
     "source": [
      "FACES = 1\n",
      "PLACES = 0\n",
      "labels = []\n",
      "features = []\n",
      "correct_ans = []\n",
      "interval_len = 250 #in millis\n",
      "\n",
      "for (startTimes, endTimes, trialType, corrects, epochdata) in zip(journal.epochOnset, journal.epochOffset, journal.epochType, journal.epochCorrect, data.epochs):\n",
      "    for (datapoints, startTime, endTime, correct) in zip(epochdata, startTimes, endTimes, corrects):\n",
      "        offset = 0\n",
      "        epoch_features = []\n",
      "        epoch_labels = []\n",
      "        while offset + startTime < endTime:\n",
      "            feature = [point for point in datapoints if (long(point[-1]) > offset + startTime and long(point[-1]) < offset + startTime + interval_len)]\n",
      "            # Get rid of timestamps and other metadata. Sum over this stretch of seconds\n",
      "            feature = np.array(feature)[:, 3:17].mean(axis=0)\n",
      "            offset += interval_len\n",
      "            features.append(feature)\n",
      "            labels.append(trialType)\n",
      "            #epoch_features.append(feature)\n",
      "            #epoch_labels.append(trialType)\n",
      "            #correct_ans.append(1 if correct else 0)\n",
      "    #features.append(epoch_features)\n",
      "    #labels.append(epoch_labels)\n",
      "        \n",
      "labels = [FACES if \"faces\" in label else PLACES for label in labels]"
     ]
    },
    {
     "cell_type": "raw",
     "metadata": {},
     "source": [
      "def nfold(_features, _labels, train, classify, folds):\n",
      "    num_points = len(_features)\n",
      "    points_per_fold = num_points/folds\n",
      "    rand_stack = [i for i in range(0, num_points)]\n",
      "    shuffle(rand_stack)\n",
      "    agg_accuracy = 0\n",
      "    j = 0\n",
      "    while len(rand_stack) > 0:\n",
      "        new_test_feat = [_features[i] for i in rand_stack[:points_per_fold]]\n",
      "        new_test_lab = [_labels[i] for i in rand_stack[:points_per_fold]]\n",
      "        new_train_feat = [_features[i] for i in range(0, num_points) if not i in rand_stack[:points_per_fold]]\n",
      "        new_train_lab = [_labels[i] for i in range(0, num_points) if not i in rand_stack[:points_per_fold]]\n",
      "        rand_stack = rand_stack[points_per_fold:]\n",
      "        train(new_train_feat, new_train_lab)\n",
      "        accuracy = 0\n",
      "        for (feature, label) in zip(new_test_feat, new_test_lab):\n",
      "                if classify(feature) == label:\n",
      "                    accuracy += 1\n",
      "        j += 1\n",
      "        agg_accuracy += float(accuracy)/len(new_test_feat)\n",
      "    \n",
      "    agg_accuracy = agg_accuracy/j\n",
      "    print \"Agg accuracy %f\" % agg_accuracy\n",
      "    return agg_accuracy\n",
      "    "
     ]
    },
    {
     "cell_type": "raw",
     "metadata": {},
     "source": [
      "def leave_out_last_k(epochdata, labels, train, classify, k):\n",
      "    train_feat = []\n",
      "    train_lab = []\n",
      "    test_feat = []\n",
      "    test_lab = []\n",
      "    for idx, epoch in enumerate(epochdata[:k]):\n",
      "        train_feat += epochs\n",
      "        train_lab.append()\n",
      "            \n",
      "    for idx, epoch in enumerate(epochdata[k:]):\n",
      "        for trial in epoch:\n",
      "            test_feat.append(trial)\n",
      "            test_lab.append(journal.epochType[idx])\n",
      "\n",
      "    acc = 0\n",
      "    train(train_feat, train_lab)\n",
      "    \n",
      "    for (feat, lab) in zip(test_feat, test_lab):\n",
      "        if classify(feat) == lab:\n",
      "            acc += 1.0\n",
      "\n",
      "    return acc_g/len(test_feat)"
     ]
    },
    {
     "cell_type": "code",
     "collapsed": false,
     "input": [
      "raw_time = np.array(eegdata)[:,-1]\n",
      "raw_data = np.array(eegdata)[:,3:17]\n",
      "raw_data = raw_data - raw_data.mean(axis=0)\n",
      "plt.plot(raw_time, raw_data)\n",
      "plt.xlabel(\"Time (millis)\")\n",
      "plt.ylabel(\"Voltage (Digital Value), 14 channels\")\n",
      "plt.title(\"Raw Emotiv Data, Single Run of Experiment\")"
     ],
     "language": "python",
     "metadata": {},
     "outputs": [
      {
       "metadata": {},
       "output_type": "pyout",
       "prompt_number": 5,
       "text": [
        "<matplotlib.text.Text at 0x108665350>"
       ]
      },
      {
       "metadata": {},
       "output_type": "display_data",
       "png": "[encoded data removed]",
       "text": [
        "<matplotlib.figure.Figure at 0x104ef3890>"
       ]
      }
     ],
     "prompt_number": 5
    },
    {
     "cell_type": "code",
     "collapsed": false,
     "input": [
      "def butter_bandpass(lowcut, highcut, fs, order=5):\n",
      "    nyq = 0.5 * fs\n",
      "    low = lowcut / nyq\n",
      "    high = highcut / nyq\n",
      "    b, a = signal.butter(order, [low, high], btype='band')\n",
      "    return b, a\n",
      "\n",
      "\n",
      "def butter_bandpass_filter(data, lowcut, highcut, fs, order=5):\n",
      "    b, a = butter_bandpass(lowcut, highcut, fs, order=order)\n",
      "    y = signal.lfilter(b, a, data)\n",
      "    return y\n"
     ],
     "language": "python",
     "metadata": {},
     "outputs": [],
     "prompt_number": 6
    },
    {
     "cell_type": "code",
     "collapsed": false,
     "input": [
      "raw_chann = raw_data\n",
      "Y = np.fft.fft(raw_chann)\n",
      "freq = np.fft.fftfreq(len(raw_chann),raw_time[-1] - raw_time[0])"
     ],
     "language": "python",
     "metadata": {},
     "outputs": [],
     "prompt_number": 7
    },
    {
     "cell_type": "code",
     "collapsed": false,
     "input": [
      "lowcut = 2\n",
      "highcut = 60\n",
      "fs = 128\n",
      "filt = butter_bandpass_filter(raw_chann, lowcut, highcut, fs)\n",
      "filt = np.fft.fft(filt)"
     ],
     "language": "python",
     "metadata": {},
     "outputs": [],
     "prompt_number": 8
    },
    {
     "cell_type": "code",
     "collapsed": false,
     "input": [
      "fig, axes = plt.subplots(2, sharey=True)\n",
      "\n",
      "axes[0].plot(freq[100:(len(freq)/2)], abs(Y[100:(len(freq)/2)]))\n",
      "axes[1].plot(freq[100:(len(freq)/2)], abs(filt[100:(len(freq)/2)]))"
     ],
     "language": "python",
     "metadata": {},
     "outputs": [
      {
       "metadata": {},
       "output_type": "pyout",
       "prompt_number": 9,
       "text": [
        "[<matplotlib.lines.Line2D at 0x10a660710>,\n",
        " <matplotlib.lines.Line2D at 0x10a5dfd50>,\n",
        " <matplotlib.lines.Line2D at 0x10a5dfed0>,\n",
        " <matplotlib.lines.Line2D at 0x10a5d9090>,\n",
        " <matplotlib.lines.Line2D at 0x10a5d9210>,\n",
        " <matplotlib.lines.Line2D at 0x10a5d9390>,\n",
        " <matplotlib.lines.Line2D at 0x10a5d9510>,\n",
        " <matplotlib.lines.Line2D at 0x10a66e3d0>,\n",
        " <matplotlib.lines.Line2D at 0x10a5d9810>,\n",
        " <matplotlib.lines.Line2D at 0x10a5d9990>,\n",
        " <matplotlib.lines.Line2D at 0x10a5d9b10>,\n",
        " <matplotlib.lines.Line2D at 0x10a5d9c90>,\n",
        " <matplotlib.lines.Line2D at 0x10a5d9e10>,\n",
        " <matplotlib.lines.Line2D at 0x10a5d9f90>]"
       ]
      },
      {
       "metadata": {},
       "output_type": "display_data",
       "png": "[encoded data removed]",
       "text": [
        "<matplotlib.figure.Figure at 0x106fdbf50>"
       ]
      }
     ],
     "prompt_number": 9
    },
    {
     "cell_type": "markdown",
     "metadata": {},
     "source": [
      "#Classification with no data prep"
     ]
    },
    {
     "cell_type": "code",
     "collapsed": false,
     "input": [
      "train_features = []\n",
      "train_labels = []\n",
      "test_features = []\n",
      "test_labels = []\n",
      "for idx, epoch in enumerate(data.epochs[:6]):\n",
      "    s = np.array_split(epoch, len(epoch)/(128/4), axis=0)\n",
      "    train_features += [sample.mean(axis=0) for sample in s]\n",
      "    train_labels += [journal.epochType[idx]] * len(s)\n",
      "\n",
      "for idx, epoch in enumerate(data.epochs[6:]):\n",
      "    s = np.array_split(epoch, len(epoch)/(128/4), axis=0)\n",
      "    test_features += [sample.mean(axis=0) for sample in s]\n",
      "    test_labels += [journal.epochType[idx]] * len(s)\n",
      "\n",
      "test_features = np.array(test_features)\n",
      "test_labels = [1 if \"faces\" in label else 0 for label in test_labels]\n",
      "train_features = np.array(train_features)\n",
      "train_labels = [1 if \"faces\" in label else 0 for label in train_labels]"
     ],
     "language": "python",
     "metadata": {},
     "outputs": [],
     "prompt_number": 88
    },
    {
     "cell_type": "code",
     "collapsed": false,
     "input": [
      "cnf = sklearn.linear_model.LogisticRegression()\n",
      "cnf.fit(train_features, train_labels)"
     ],
     "language": "python",
     "metadata": {},
     "outputs": [
      {
       "metadata": {},
       "output_type": "pyout",
       "prompt_number": 64,
       "text": [
        "LogisticRegression(C=1.0, class_weight=None, dual=False, fit_intercept=True,\n",
        "          intercept_scaling=1, penalty='l2', random_state=None, tol=0.0001)"
       ]
      }
     ],
     "prompt_number": 64
    },
    {
     "cell_type": "code",
     "collapsed": false,
     "input": [
      "acc = 0\n",
      "for (feat, label) in zip(test_features, test_labels):\n",
      "    if cnf.predict(feat) == label:\n",
      "        acc += 1.0\n",
      "\n",
      "print acc/len(test_features)"
     ],
     "language": "python",
     "metadata": {},
     "outputs": [
      {
       "output_type": "stream",
       "stream": "stdout",
       "text": [
        "0.634085213033\n"
       ]
      }
     ],
     "prompt_number": 65
    },
    {
     "cell_type": "code",
     "collapsed": false,
     "input": [
      "cnf = tree.DecisionTreeClassifier()\n",
      "cnf.fit(train_features, train_labels)\n",
      "acc = 0\n",
      "for (feat, label) in zip(test_features, test_labels):\n",
      "    if cnf.predict(feat) == label:\n",
      "        acc += 1.0\n",
      "\n",
      "print acc/len(test_features)"
     ],
     "language": "python",
     "metadata": {},
     "outputs": [
      {
       "output_type": "stream",
       "stream": "stdout",
       "text": [
        "0.46365914787\n"
       ]
      }
     ],
     "prompt_number": 66
    },
    {
     "cell_type": "code",
     "collapsed": false,
     "input": [
      "cnf = sklearn.svm.SVC()\n",
      "cnf.fit(train_features, train_labels)\n",
      "acc = 0\n",
      "for (feat, label) in zip(test_features, test_labels):\n",
      "    if cnf.predict(feat) == label:\n",
      "        acc += 1.0\n",
      "\n",
      "print acc/len(test_features)"
     ],
     "language": "python",
     "metadata": {},
     "outputs": [
      {
       "output_type": "stream",
       "stream": "stdout",
       "text": [
        "0.501253132832\n"
       ]
      }
     ],
     "prompt_number": 70
    },
    {
     "cell_type": "code",
     "collapsed": false,
     "input": [
      "cnf = sklearn.svm.SVC(kernel=\"linear\")\n",
      "cnf.fit(train_features, train_labels)\n",
      "acc = 0\n",
      "for (feat, label) in zip(test_features, test_labels):\n",
      "    if cnf.predict(feat) == label:\n",
      "        acc += 1.0\n",
      "\n",
      "print acc/len(test_features)"
     ],
     "language": "python",
     "metadata": {},
     "outputs": [
      {
       "output_type": "stream",
       "stream": "stdout",
       "text": [
        "0.59649122807\n"
       ]
      }
     ],
     "prompt_number": 71
    },
    {
     "cell_type": "code",
     "collapsed": false,
     "input": [
      "cnf = ensemble.AdaBoostClassifier()\n",
      "cnf.fit(train_features, train_labels)\n",
      "acc = 0\n",
      "for (feat, label) in zip(test_features, test_labels):\n",
      "    if cnf.predict(feat) == label:\n",
      "        acc += 1.0\n",
      "\n",
      "print acc/len(test_features)"
     ],
     "language": "python",
     "metadata": {},
     "outputs": [
      {
       "output_type": "stream",
       "stream": "stdout",
       "text": [
        "0.40350877193\n"
       ]
      }
     ],
     "prompt_number": 72
    },
    {
     "cell_type": "markdown",
     "metadata": {},
     "source": [
      "#Classification with butterworth filter applied per epoch"
     ]
    },
    {
     "cell_type": "code",
     "collapsed": false,
     "input": [
      "fs = 128\n",
      "\n",
      "def butterworth(data, lowcut, highcut):\n",
      "    train_features = []\n",
      "    train_labels = []\n",
      "    test_features = []\n",
      "    test_labels = []\n",
      "    for idx, epoch in enumerate(data.epochs[:6]):\n",
      "        epoch = np.array(epoch)\n",
      "        # apply filter\n",
      "        raw_chann = epoch - epoch.mean(axis=0)\n",
      "        epoch = butter_bandpass_filter(raw_chann, lowcut, highcut, fs)\n",
      "\n",
      "\n",
      "        s = np.array_split(epoch, len(epoch)/(128/4), axis=0)\n",
      "        train_features += [sample.mean(axis=0) for sample in s]\n",
      "        train_labels += [journal.epochType[idx]] * len(s)\n",
      "\n",
      "    for idx, epoch in enumerate(data.epochs[6:]):\n",
      "        epoch = np.array(epoch)\n",
      "        # apply filter\n",
      "        raw_chann = epoch - epoch.mean(axis=0)\n",
      "        epoch = butter_bandpass_filter(raw_chann, lowcut, highcut, fs)\n",
      "\n",
      "        s = np.array_split(epoch, len(epoch)/(128/4), axis=0)\n",
      "        test_features += [sample.mean(axis=0) for sample in s]\n",
      "        test_labels += [journal.epochType[idx]] * len(s)\n",
      "\n",
      "    test_features = np.array(test_features)\n",
      "    test_labels = [1 if \"faces\" in label else 0 for label in test_labels]\n",
      "    train_features = np.array(train_features)\n",
      "    train_labels = [1 if \"faces\" in label else 0 for label in train_labels]\n",
      "    return(train_features, train_labels, test_features, test_labels, )\n"
     ],
     "language": "python",
     "metadata": {},
     "outputs": [],
     "prompt_number": 107
    },
    {
     "cell_type": "code",
     "collapsed": false,
     "input": [
      "fig, axes = plt.subplots(2, 2, sharey=True, sharex=True)\n",
      "axes[0][0].plot(train_features - train_features.mean(axis=0))\n",
      "#axes[0][0].title = \"Demeaned\"\n",
      "(trainfeatbutt, trainlabbutt, testfeatbutt, testlabbutt) = butterworth(data, 2, 15)\n",
      "axes[0][1].plot(trainfeatbutt)\n",
      "#axes[0][1].title =\"Butterworth from 2 to 15 Hz\"\n",
      "(trainfeatbutt, trainlabbutt, testfeatbutt, testlabbutt) = butterworth(data, 2, 30)\n",
      "axes[1][0].plot(trainfeatbutt)\n",
      "#axes[1][0].title =\" Butterworth from 2 to 30 Hz\"\n",
      "(trainfeatbutt, trainlabbutt, testfeatbutt, testlabbutt) = butterworth(data, 2, 60)\n",
      "axes[1][1].plot(trainfeatbutt)\n",
      "#axes[1][1].title = \"Butterworth from 2 to 60 Hz\""
     ],
     "language": "python",
     "metadata": {},
     "outputs": [
      {
       "metadata": {},
       "output_type": "pyout",
       "prompt_number": 111,
       "text": [
        "[<matplotlib.lines.Line2D at 0x1139ea2d0>,\n",
        " <matplotlib.lines.Line2D at 0x1139f4610>,\n",
        " <matplotlib.lines.Line2D at 0x1139f4790>,\n",
        " <matplotlib.lines.Line2D at 0x1139f4910>,\n",
        " <matplotlib.lines.Line2D at 0x1139f4a90>,\n",
        " <matplotlib.lines.Line2D at 0x1139f4c10>,\n",
        " <matplotlib.lines.Line2D at 0x1139f4d90>,\n",
        " <matplotlib.lines.Line2D at 0x1139f4f10>,\n",
        " <matplotlib.lines.Line2D at 0x1139f80d0>,\n",
        " <matplotlib.lines.Line2D at 0x1139f8250>,\n",
        " <matplotlib.lines.Line2D at 0x1139f83d0>,\n",
        " <matplotlib.lines.Line2D at 0x1139f8550>,\n",
        " <matplotlib.lines.Line2D at 0x1139f86d0>,\n",
        " <matplotlib.lines.Line2D at 0x1139f8850>]"
       ]
      },
      {
       "metadata": {},
       "output_type": "display_data",
       "png": "[encoded data removed]",
       "text": [
        "<matplotlib.figure.Figure at 0x1133b6150>"
       ]
      }
     ],
     "prompt_number": 111
    },
    {
     "cell_type": "heading",
     "level": 2,
     "metadata": {},
     "source": [
      "Butterworth 2 - 10"
     ]
    },
    {
     "cell_type": "code",
     "collapsed": false,
     "input": [
      "(trainfeatbutt, trainlabbutt, testfeatbutt, testlabbutt) = butterworth(data, 2, 10)"
     ],
     "language": "python",
     "metadata": {},
     "outputs": [],
     "prompt_number": 138
    },
    {
     "cell_type": "code",
     "collapsed": false,
     "input": [
      "cnf = sklearn.linear_model.LogisticRegression()\n",
      "cnf.fit(trainfeatbutt, trainlabbutt)\n",
      "acc = 0\n",
      "for (feat, label) in zip(testfeatbutt, testlabbutt):\n",
      "    if cnf.predict(feat) == label:\n",
      "        acc += 1.0\n",
      "\n",
      "print acc/len(testfeatbutt)"
     ],
     "language": "python",
     "metadata": {},
     "outputs": [
      {
       "output_type": "stream",
       "stream": "stdout",
       "text": [
        "0.511278195489\n"
       ]
      }
     ],
     "prompt_number": 139
    },
    {
     "cell_type": "code",
     "collapsed": false,
     "input": [
      "cnf = tree.DecisionTreeClassifier()\n",
      "cnf.fit(trainfeatbutt, trainlabbutt)\n",
      "acc = 0\n",
      "for (feat, label) in zip(testfeatbutt, testlabbutt):\n",
      "    if cnf.predict(feat) == label:\n",
      "        acc += 1.0\n",
      "\n",
      "print acc/len(testfeatbutt)"
     ],
     "language": "python",
     "metadata": {},
     "outputs": [
      {
       "output_type": "stream",
       "stream": "stdout",
       "text": [
        "0.609022556391\n"
       ]
      }
     ],
     "prompt_number": 140
    },
    {
     "cell_type": "code",
     "collapsed": false,
     "input": [
      "cnf = sklearn.svm.SVC()\n",
      "cnf.fit(trainfeatbutt, trainlabbutt)\n",
      "acc = 0\n",
      "for (feat, label) in zip(testfeatbutt, testlabbutt):\n",
      "    if cnf.predict(feat) == label:\n",
      "        acc += 1.0\n",
      "\n",
      "print acc/len(testfeatbutt)"
     ],
     "language": "python",
     "metadata": {},
     "outputs": [
      {
       "output_type": "stream",
       "stream": "stdout",
       "text": [
        "0.661654135338\n"
       ]
      }
     ],
     "prompt_number": 141
    },
    {
     "cell_type": "code",
     "collapsed": false,
     "input": [
      "cnf = sklearn.svm.SVC(kernel=\"linear\")\n",
      "cnf.fit(trainfeatbutt, trainlabbutt)\n",
      "acc = 0\n",
      "for (feat, label) in zip(testfeatbutt, testlabbutt):\n",
      "    if cnf.predict(feat) == label:\n",
      "        acc += 1.0\n",
      "\n",
      "print acc/len(testfeatbutt)"
     ],
     "language": "python",
     "metadata": {},
     "outputs": [
      {
       "output_type": "stream",
       "stream": "stdout",
       "text": [
        "0.573934837093\n"
       ]
      }
     ],
     "prompt_number": 142
    },
    {
     "cell_type": "heading",
     "level": 2,
     "metadata": {},
     "source": [
      "Butterworth 2 - 15"
     ]
    },
    {
     "cell_type": "code",
     "collapsed": false,
     "input": [
      "(trainfeatbutt, trainlabbutt, testfeatbutt, testlabbutt) = butterworth(data, 2, 15)"
     ],
     "language": "python",
     "metadata": {},
     "outputs": [],
     "prompt_number": 122
    },
    {
     "cell_type": "code",
     "collapsed": false,
     "input": [
      "cnf = sklearn.linear_model.LogisticRegression()\n",
      "cnf.fit(trainfeatbutt, trainlabbutt)\n",
      "acc = 0\n",
      "for (feat, label) in zip(testfeatbutt, testlabbutt):\n",
      "    if cnf.predict(feat) == label:\n",
      "        acc += 1.0\n",
      "\n",
      "print acc/len(testfeatbutt)"
     ],
     "language": "python",
     "metadata": {},
     "outputs": [
      {
       "output_type": "stream",
       "stream": "stdout",
       "text": [
        "0.501253132832\n"
       ]
      }
     ],
     "prompt_number": 126
    },
    {
     "cell_type": "code",
     "collapsed": false,
     "input": [
      "cnf = tree.DecisionTreeClassifier()\n",
      "cnf.fit(trainfeatbutt, trainlabbutt)\n",
      "acc = 0\n",
      "for (feat, label) in zip(testfeatbutt, testlabbutt):\n",
      "    if cnf.predict(feat) == label:\n",
      "        acc += 1.0\n",
      "\n",
      "print acc/len(testfeatbutt)"
     ],
     "language": "python",
     "metadata": {},
     "outputs": [
      {
       "output_type": "stream",
       "stream": "stdout",
       "text": [
        "0.583959899749\n"
       ]
      }
     ],
     "prompt_number": 123
    },
    {
     "cell_type": "code",
     "collapsed": false,
     "input": [
      "cnf = sklearn.svm.SVC()\n",
      "cnf.fit(trainfeatbutt, trainlabbutt)\n",
      "acc = 0\n",
      "for (feat, label) in zip(testfeatbutt, testlabbutt):\n",
      "    if cnf.predict(feat) == label:\n",
      "        acc += 1.0\n",
      "\n",
      "print acc/len(testfeatbutt)"
     ],
     "language": "python",
     "metadata": {},
     "outputs": [
      {
       "output_type": "stream",
       "stream": "stdout",
       "text": [
        "0.654135338346\n"
       ]
      }
     ],
     "prompt_number": 124
    },
    {
     "cell_type": "code",
     "collapsed": false,
     "input": [
      "cnf = sklearn.svm.SVC(kernel=\"linear\")\n",
      "cnf.fit(trainfeatbutt, trainlabbutt)\n",
      "acc = 0\n",
      "for (feat, label) in zip(testfeatbutt, testlabbutt):\n",
      "    if cnf.predict(feat) == label:\n",
      "        acc += 1.0\n",
      "\n",
      "print acc/len(testfeatbutt)"
     ],
     "language": "python",
     "metadata": {},
     "outputs": [
      {
       "output_type": "stream",
       "stream": "stdout",
       "text": [
        "0.498746867168\n"
       ]
      }
     ],
     "prompt_number": 125
    },
    {
     "cell_type": "heading",
     "level": 2,
     "metadata": {},
     "source": [
      "Butterworth 2 - 30"
     ]
    },
    {
     "cell_type": "code",
     "collapsed": false,
     "input": [
      "(trainfeatbutt, trainlabbutt, testfeatbutt, testlabbutt) = butterworth(data, 2, 30)"
     ],
     "language": "python",
     "metadata": {},
     "outputs": [],
     "prompt_number": 129
    },
    {
     "cell_type": "code",
     "collapsed": false,
     "input": [
      "cnf = sklearn.linear_model.LogisticRegression()\n",
      "cnf.fit(trainfeatbutt, trainlabbutt)\n",
      "acc = 0\n",
      "for (feat, label) in zip(testfeatbutt, testlabbutt):\n",
      "    if cnf.predict(feat) == label:\n",
      "        acc += 1.0\n",
      "\n",
      "print acc/len(testfeatbutt)"
     ],
     "language": "python",
     "metadata": {},
     "outputs": [
      {
       "output_type": "stream",
       "stream": "stdout",
       "text": [
        "0.488721804511\n"
       ]
      }
     ],
     "prompt_number": 130
    },
    {
     "cell_type": "code",
     "collapsed": false,
     "input": [
      "cnf = tree.DecisionTreeClassifier()\n",
      "cnf.fit(trainfeatbutt, trainlabbutt)\n",
      "acc = 0\n",
      "for (feat, label) in zip(testfeatbutt, testlabbutt):\n",
      "    if cnf.predict(feat) == label:\n",
      "        acc += 1.0\n",
      "\n",
      "print acc/len(testfeatbutt)"
     ],
     "language": "python",
     "metadata": {},
     "outputs": [
      {
       "output_type": "stream",
       "stream": "stdout",
       "text": [
        "0.511278195489\n"
       ]
      }
     ],
     "prompt_number": 131
    },
    {
     "cell_type": "code",
     "collapsed": false,
     "input": [
      "cnf = sklearn.svm.SVC()\n",
      "cnf.fit(trainfeatbutt, trainlabbutt)\n",
      "acc = 0\n",
      "for (feat, label) in zip(testfeatbutt, testlabbutt):\n",
      "    if cnf.predict(feat) == label:\n",
      "        acc += 1.0\n",
      "\n",
      "print acc/len(testfeatbutt)"
     ],
     "language": "python",
     "metadata": {},
     "outputs": [
      {
       "output_type": "stream",
       "stream": "stdout",
       "text": [
        "0.501253132832\n"
       ]
      }
     ],
     "prompt_number": 132
    },
    {
     "cell_type": "code",
     "collapsed": false,
     "input": [
      "cnf = sklearn.svm.SVC(kernel=\"linear\")\n",
      "cnf.fit(trainfeatbutt, trainlabbutt)\n",
      "acc = 0\n",
      "for (feat, label) in zip(testfeatbutt, testlabbutt):\n",
      "    if cnf.predict(feat) == label:\n",
      "        acc += 1.0\n",
      "\n",
      "print acc/len(testfeatbutt)"
     ],
     "language": "python",
     "metadata": {},
     "outputs": [
      {
       "output_type": "stream",
       "stream": "stdout",
       "text": [
        "0.513784461153\n"
       ]
      }
     ],
     "prompt_number": 133
    },
    {
     "cell_type": "code",
     "collapsed": false,
     "input": [
      "lowcut = 0.01\n",
      "highcut = 20\n",
      "fs = 128\n",
      "raw_chann = raw_data - raw_data.mean(axis=0)\n",
      "y = butter_bandpass_filter(raw_chann, lowcut, highcut, fs)\n",
      "plt.plot(raw_time, y, label=\"filt\")\n",
      "plt.plot(raw_time, raw_chann, label=\"raw\")"
     ],
     "language": "python",
     "metadata": {},
     "outputs": [
      {
       "metadata": {},
       "output_type": "pyout",
       "prompt_number": 210,
       "text": [
        "[<matplotlib.lines.Line2D at 0x116984f10>,\n",
        " <matplotlib.lines.Line2D at 0x1177d93d0>,\n",
        " <matplotlib.lines.Line2D at 0x1177d9550>,\n",
        " <matplotlib.lines.Line2D at 0x1177d96d0>,\n",
        " <matplotlib.lines.Line2D at 0x1177d9850>,\n",
        " <matplotlib.lines.Line2D at 0x1177d99d0>,\n",
        " <matplotlib.lines.Line2D at 0x1177d9b50>,\n",
        " <matplotlib.lines.Line2D at 0x11635f410>,\n",
        " <matplotlib.lines.Line2D at 0x1177d9e50>,\n",
        " <matplotlib.lines.Line2D at 0x1177d9fd0>,\n",
        " <matplotlib.lines.Line2D at 0x1177d6190>,\n",
        " <matplotlib.lines.Line2D at 0x1177d6310>,\n",
        " <matplotlib.lines.Line2D at 0x1177d6490>,\n",
        " <matplotlib.lines.Line2D at 0x1177d6610>]"
       ]
      },
      {
       "metadata": {},
       "output_type": "display_data",
       "png": "[encoded data removed]",
       "text": [
        "<matplotlib.figure.Figure at 0x11149ed50>"
       ]
      }
     ],
     "prompt_number": 210
    },
    {
     "cell_type": "heading",
     "level": 1,
     "metadata": {},
     "source": [
      "k-fold best pca"
     ]
    },
    {
     "cell_type": "code",
     "collapsed": false,
     "input": [
      "def pca_breakdown(data, leaveout):\n",
      "    train_features = []\n",
      "    train_labels = []\n",
      "    test_features = []\n",
      "    test_labels = []\n",
      "    pca = decomposition.PCA(n_components = 14)\n",
      "    contig_train = np.array(np.vstack(data.epochs[:6]))\n",
      "    components = pca.fit(contig_train)\n",
      "    transformed = components.transform(contig_train)\n",
      "    \n",
      "    for idx, epoch in enumerate(data.epochs[:6]):\n",
      "        epoch = components.transform(np.array(epoch))\n",
      "        epoch = np.delete(epoch, leaveout, 1)\n",
      "        s = np.array_split(epoch, len(epoch)/(128/4), axis=0)\n",
      "        train_features += [sample.mean(axis=0) for sample in s]\n",
      "        train_labels += [journal.epochType[idx]] * len(s)\n",
      "\n",
      "    for idx, epoch in enumerate(data.epochs[6:]):\n",
      "        epoch = components.transform(np.array(epoch))\n",
      "        epoch = np.delete(epoch, leaveout, 1)\n",
      "        s = np.array_split(epoch, len(epoch)/(128/4), axis=0)\n",
      "        test_features += [sample.mean(axis=0) for sample in s]\n",
      "        test_labels += [journal.epochType[idx]] * len(s)\n",
      "\n",
      "    test_features = np.array(test_features)\n",
      "    test_labels = [1 if \"faces\" in label else 0 for label in test_labels]\n",
      "    train_features = np.array(train_features)\n",
      "    train_labels = [1 if \"faces\" in label else 0 for label in train_labels]\n",
      "    \n",
      "    return(train_features, train_labels, test_features, test_labels)\n"
     ],
     "language": "python",
     "metadata": {},
     "outputs": [],
     "prompt_number": 183
    },
    {
     "cell_type": "code",
     "collapsed": false,
     "input": [
      "(trainfeatpca, trainlabpca, testfeatpca, testlabpca) = pca_breakdown(data, 12)"
     ],
     "language": "python",
     "metadata": {},
     "outputs": [],
     "prompt_number": 185
    },
    {
     "cell_type": "code",
     "collapsed": false,
     "input": [
      "fig, axes = plt.subplots(7, 2, sharey=True)\n",
      "for i in range(0, 7):\n",
      "    (trainfeatpca, trainlabpca, testfeatpca, testlabpca) = pca_breakdown(data, i)\n",
      "    axes[i, 0].plot(trainfeatpca)\n",
      "for i in range(7, 14):\n",
      "    (trainfeatpca, trainlabpca, testfeatpca, testlabpca) = pca_breakdown(data, i)\n",
      "    axes[i - 7, 1].plot(trainfeatpca)"
     ],
     "language": "python",
     "metadata": {},
     "outputs": [
      {
       "metadata": {},
       "output_type": "display_data",
       "png": "[encoded data removed]",
       "text": [
        "<matplotlib.figure.Figure at 0x116558150>"
       ]
      }
     ],
     "prompt_number": 190
    },
    {
     "cell_type": "heading",
     "level": 1,
     "metadata": {},
     "source": [
      "Removing the most noisy channel"
     ]
    },
    {
     "cell_type": "code",
     "collapsed": false,
     "input": [
      "(trainfeatpca, trainlabpca, testfeatpca, testlabpca) = pca_breakdown(data, 0)"
     ],
     "language": "python",
     "metadata": {},
     "outputs": [],
     "prompt_number": 191
    },
    {
     "cell_type": "code",
     "collapsed": false,
     "input": [
      "cnf = sklearn.linear_model.LogisticRegression()\n",
      "cnf.fit(trainfeatpca, trainlabpca)\n",
      "acc = 0\n",
      "for (feat, label) in zip(testfeatpca, testlabpca):\n",
      "    if cnf.predict(feat) == label:\n",
      "        acc += 1.0\n",
      "\n",
      "print acc/len(testfeatpca)"
     ],
     "language": "python",
     "metadata": {},
     "outputs": [
      {
       "output_type": "stream",
       "stream": "stdout",
       "text": [
        "0.62656641604\n"
       ]
      }
     ],
     "prompt_number": 193
    },
    {
     "cell_type": "code",
     "collapsed": false,
     "input": [
      "cnf = tree.DecisionTreeClassifier()\n",
      "cnf.fit(trainfeatpca, trainlabpca)\n",
      "acc = 0\n",
      "for (feat, label) in zip(testfeatpca, testlabpca):\n",
      "    if cnf.predict(feat) == label:\n",
      "        acc += 1.0\n",
      "\n",
      "print acc/len(testfeatpca)"
     ],
     "language": "python",
     "metadata": {},
     "outputs": [
      {
       "output_type": "stream",
       "stream": "stdout",
       "text": [
        "0.518796992481\n"
       ]
      }
     ],
     "prompt_number": 194
    },
    {
     "cell_type": "code",
     "collapsed": false,
     "input": [
      "cnf = sklearn.svm.SVC()\n",
      "cnf.fit(trainfeatpca, trainlabpca)\n",
      "acc = 0\n",
      "for (feat, label) in zip(testfeatpca, testlabpca):\n",
      "    if cnf.predict(feat) == label:\n",
      "        acc += 1.0\n",
      "\n",
      "print acc/len(testfeatpca)"
     ],
     "language": "python",
     "metadata": {},
     "outputs": [
      {
       "output_type": "stream",
       "stream": "stdout",
       "text": [
        "0.501253132832\n"
       ]
      }
     ],
     "prompt_number": 195
    },
    {
     "cell_type": "code",
     "collapsed": false,
     "input": [
      "cnf = sklearn.svm.SVC(kernel=\"linear\")\n",
      "cnf.fit(trainfeatpca, trainlabpca)\n",
      "acc = 0\n",
      "for (feat, label) in zip(testfeatpca, testlabpca):\n",
      "    if cnf.predict(feat) == label:\n",
      "        acc += 1.0\n",
      "\n",
      "print acc/len(testfeatpca)"
     ],
     "language": "python",
     "metadata": {},
     "outputs": [
      {
       "output_type": "stream",
       "stream": "stdout",
       "text": [
        "0.614035087719\n"
       ]
      }
     ],
     "prompt_number": 196
    },
    {
     "cell_type": "heading",
     "level": 1,
     "metadata": {},
     "source": [
      "Leaving noisy samples out fo the data"
     ]
    },
    {
     "cell_type": "code",
     "collapsed": false,
     "input": [
      "lowcut = 2\n",
      "highcut = 60\n",
      "fs = 128\n",
      "train_features = []\n",
      "train_labels = []\n",
      "test_features = []\n",
      "test_labels = []\n",
      "for idx, epoch in enumerate(data.epochs[:6]):\n",
      "    epoch = np.array(epoch)\n",
      "    e_mean = epoch.mean(axis = 0)\n",
      "\n",
      "    \n",
      "    s = np.array_split(epoch, len(epoch)/4, axis=0)\n",
      "    train_features += [sample.mean(axis=0) for sample in s]\n",
      "    train_labels += [journal.epochType[idx]] * len(s)\n",
      "\n",
      "for idx, epoch in enumerate(data.epochs[6:]):\n",
      "\n",
      "    s = np.array_split(epoch, len(epoch)/4, axis=0)\n",
      "    test_features += [sample.mean(axis=0) for sample in s]\n",
      "    test_labels += [journal.epochType[idx]] * len(s)\n",
      "\n",
      "test_features = np.array(test_features)\n",
      "test_labels = [1 if \"faces\" in label else 0 for label in test_labels]\n",
      "train_features = np.array(train_features)\n",
      "train_labels = [1 if \"faces\" in label else 0 for label in train_labels]"
     ],
     "language": "python",
     "metadata": {},
     "outputs": []
    },
    {
     "cell_type": "raw",
     "metadata": {},
     "source": [
      "k = 4\n",
      "folds = sklearn.cross_validation.KFold(len(data.epochs),k, shuffle=True)\n",
      "g_accuracy = 0\n",
      "for train_index, test_index in folds:\n",
      "    clf = sklearn.svm.SVC()\n",
      "    train_set = []\n",
      "    train_labels = []\n",
      "    test_set = []\n",
      "    test_labels = []\n",
      "    # window and average the data\n",
      "    for idx in range(0, len(data.epochs)):\n",
      "        label_type = 1 if \"faces\" in journal.epochType[idx] else 0\n",
      "        for trial in data.epochs[idx]:\n",
      "            windows = np.split(trial, 4, axis = 0)\n",
      "            if idx in train_index:\n",
      "                for window in windows:\n",
      "                    train_set.append(window.mean(axis=0))\n",
      "                    train_labels.append(label_type)\n",
      "            else:\n",
      "                for window in windows:\n",
      "                    test_set.append(window.mean(axis=0))\n",
      "                    test_labels.append(label_type)\n",
      "\n",
      "    clf.train(train_set, train_labels)\n",
      "    l_accuracy = 0.0\n",
      "    \n",
      "    for data, label in zip(test_set, test_labels):\n",
      "        if clf.predict(data) == label:\n",
      "            l_accuracy += 1.0\n",
      "    \n",
      "    l_accuracy = l_accuracy/len(test_set)\n",
      "    print \"accuracy was %f\" % l_accuracy\n",
      "    g_accuracy += (l_accuracy * 1.0/k)\n",
      "    \n",
      "print \"global accuracy was %f\" % g_accuracy\n",
      "\n",
      "\n",
      "        "
     ]
    },
    {
     "cell_type": "code",
     "collapsed": false,
     "input": [
      "def k_dim_ica(features, accuracy_eval, k):\n",
      "    accuracies = []\n",
      "    ica = decomposition.FastICA(n_components = k,max_iter = 400)\n",
      "    components = ica.fit(np.array(features)).fit_transform(features)\n",
      "    for i in range(0, k):\n",
      "        # delete the k'th column\n",
      "        this_feat = np.delete(components, i, 1)\n",
      "        assert(this_feat.shape[1] == (k-1))\n",
      "        accuracies.append(accuracy_eval(this_feat))\n",
      "    return (accuracies, components)"
     ],
     "language": "python",
     "metadata": {},
     "outputs": [],
     "prompt_number": 7
    },
    {
     "cell_type": "code",
     "collapsed": false,
     "input": [
      "def k_dim_pca(features, accuracy_eval, k):\n",
      "    accuracies = []\n",
      "    pca = decomposition.PCA(n_components = k)\n",
      "    components = pca.fit(np.array(features)).transform(features)\n",
      "    for i in range(0, k):\n",
      "        # delete the k'th column\n",
      "        this_feat = np.delete(components, i, 1)\n",
      "        assert(this_feat.shape[1] == (k-1))\n",
      "        accuracies.append(accuracy_eval(this_feat))\n",
      "    return (accuracies, components)"
     ],
     "language": "python",
     "metadata": {},
     "outputs": [],
     "prompt_number": 132
    },
    {
     "cell_type": "code",
     "collapsed": false,
     "input": [
      "def k_dim_lda(features, accuracy_eval, k):\n",
      "    accuracies = []\n",
      "    l = lda.LDA(n_components = k)\n",
      "    components = l.fit(np.array(features)).transform(features)\n",
      "    for i in range(0, k):\n",
      "        # delete the k'th column\n",
      "        this_feat = np.delete(components, i, 1)\n",
      "        assert(this_feat.shape[1] == (k-1))\n",
      "        accuracies.append(accuracy_eval(this_feat))\n",
      "    return (accuracies, components)"
     ],
     "language": "python",
     "metadata": {},
     "outputs": [],
     "prompt_number": 9
    },
    {
     "cell_type": "heading",
     "level": 1,
     "metadata": {},
     "source": [
      "Without Selecting Best Components"
     ]
    },
    {
     "cell_type": "code",
     "collapsed": false,
     "input": [
      "clf = sklearn.svm.SVC(kernel=\"linear\")\n",
      "nfold(features, labels, clf.fit, clf.predict, 10)"
     ],
     "language": "python",
     "metadata": {},
     "outputs": [
      {
       "output_type": "stream",
       "stream": "stdout",
       "text": [
        "Agg accuracy 0.704375\n"
       ]
      },
      {
       "metadata": {},
       "output_type": "pyout",
       "prompt_number": 160,
       "text": [
        "0.704375"
       ]
      }
     ],
     "prompt_number": 160
    },
    {
     "cell_type": "code",
     "collapsed": false,
     "input": [
      "clf = tree.DecisionTreeClassifier()\n",
      "nfold(features, labels, clf.fit, clf.predict, 10)"
     ],
     "language": "python",
     "metadata": {},
     "outputs": [
      {
       "output_type": "stream",
       "stream": "stdout",
       "text": [
        "Agg accuracy 0.883125\n"
       ]
      },
      {
       "metadata": {},
       "output_type": "pyout",
       "prompt_number": 161,
       "text": [
        "0.883125"
       ]
      }
     ],
     "prompt_number": 161
    },
    {
     "cell_type": "code",
     "collapsed": false,
     "input": [
      "clf = tree.DecisionTreeClassifier()\n",
      "(acc, components) = k_dim_pca(features, (lambda x: nfold(x, labels, clf.fit, clf.predict, 10)), 14)"
     ],
     "language": "python",
     "metadata": {},
     "outputs": [
      {
       "output_type": "stream",
       "stream": "stdout",
       "text": [
        "Agg accuracy 0.840000\n",
        "Agg accuracy 0.839375"
       ]
      },
      {
       "output_type": "stream",
       "stream": "stdout",
       "text": [
        "\n",
        "Agg accuracy 0.842500"
       ]
      },
      {
       "output_type": "stream",
       "stream": "stdout",
       "text": [
        "\n",
        "Agg accuracy 0.858750"
       ]
      },
      {
       "output_type": "stream",
       "stream": "stdout",
       "text": [
        "\n",
        "Agg accuracy 0.873125"
       ]
      },
      {
       "output_type": "stream",
       "stream": "stdout",
       "text": [
        "\n",
        "Agg accuracy 0.856875"
       ]
      },
      {
       "output_type": "stream",
       "stream": "stdout",
       "text": [
        "\n",
        "Agg accuracy 0.855000"
       ]
      },
      {
       "output_type": "stream",
       "stream": "stdout",
       "text": [
        "\n",
        "Agg accuracy 0.859375"
       ]
      },
      {
       "output_type": "stream",
       "stream": "stdout",
       "text": [
        "\n",
        "Agg accuracy 0.863125"
       ]
      },
      {
       "output_type": "stream",
       "stream": "stdout",
       "text": [
        "\n",
        "Agg accuracy 0.848750"
       ]
      },
      {
       "output_type": "stream",
       "stream": "stdout",
       "text": [
        "\n",
        "Agg accuracy 0.854375"
       ]
      },
      {
       "output_type": "stream",
       "stream": "stdout",
       "text": [
        "\n",
        "Agg accuracy 0.858125"
       ]
      },
      {
       "output_type": "stream",
       "stream": "stdout",
       "text": [
        "\n",
        "Agg accuracy 0.847500"
       ]
      },
      {
       "output_type": "stream",
       "stream": "stdout",
       "text": [
        "\n",
        "Agg accuracy 0.858750"
       ]
      },
      {
       "output_type": "stream",
       "stream": "stdout",
       "text": [
        "\n"
       ]
      }
     ],
     "prompt_number": 28
    },
    {
     "cell_type": "code",
     "collapsed": false,
     "input": [
      "clf = sklearn.linear_model.LogisticRegression()\n",
      "(acc, components) = k_dim_pca(features, (lambda x: nfold(x, labels, clf.fit, (lambda y: clf.predict(y)[0]) , 10)), 14)"
     ],
     "language": "python",
     "metadata": {},
     "outputs": [
      {
       "output_type": "stream",
       "stream": "stdout",
       "text": [
        "Agg accuracy 0.685000\n",
        "Agg accuracy 0.681875"
       ]
      },
      {
       "output_type": "stream",
       "stream": "stdout",
       "text": [
        "\n",
        "Agg accuracy 0.712500"
       ]
      },
      {
       "output_type": "stream",
       "stream": "stdout",
       "text": [
        "\n",
        "Agg accuracy 0.719375"
       ]
      },
      {
       "output_type": "stream",
       "stream": "stdout",
       "text": [
        "\n",
        "Agg accuracy 0.723750"
       ]
      },
      {
       "output_type": "stream",
       "stream": "stdout",
       "text": [
        "\n",
        "Agg accuracy 0.681250"
       ]
      },
      {
       "output_type": "stream",
       "stream": "stdout",
       "text": [
        "\n",
        "Agg accuracy 0.721875"
       ]
      },
      {
       "output_type": "stream",
       "stream": "stdout",
       "text": [
        "\n",
        "Agg accuracy 0.716875"
       ]
      },
      {
       "output_type": "stream",
       "stream": "stdout",
       "text": [
        "\n",
        "Agg accuracy 0.705000"
       ]
      },
      {
       "output_type": "stream",
       "stream": "stdout",
       "text": [
        "\n",
        "Agg accuracy 0.715625"
       ]
      },
      {
       "output_type": "stream",
       "stream": "stdout",
       "text": [
        "\n",
        "Agg accuracy 0.721875"
       ]
      },
      {
       "output_type": "stream",
       "stream": "stdout",
       "text": [
        "\n",
        "Agg accuracy 0.701875"
       ]
      },
      {
       "output_type": "stream",
       "stream": "stdout",
       "text": [
        "\n",
        "Agg accuracy 0.714375"
       ]
      },
      {
       "output_type": "stream",
       "stream": "stdout",
       "text": [
        "\n",
        "Agg accuracy 0.717500"
       ]
      },
      {
       "output_type": "stream",
       "stream": "stdout",
       "text": [
        "\n"
       ]
      }
     ],
     "prompt_number": 19
    },
    {
     "cell_type": "code",
     "collapsed": false,
     "input": [
      "f, axes = plt.subplots(components.shape[1], sharex=True, sharey=True)\n",
      "plt.title(\"Channels in PCA space\")\n",
      "for idx in range(0,components.shape[1]):\n",
      "    axes[idx].plot(components[:, idx])"
     ],
     "language": "python",
     "metadata": {},
     "outputs": [
      {
       "metadata": {},
       "output_type": "display_data",
       "png": "[encoded data removed]",
       "text": [
        "<matplotlib.figure.Figure at 0x1126ea310>"
       ]
      }
     ],
     "prompt_number": 21
    },
    {
     "cell_type": "code",
     "collapsed": false,
     "input": [
      "best_comp = components[:, 1:]\n",
      "clf = sklearn.linear_model.LogisticRegression()\n",
      "nfold(best_comp, labels, clf.fit, (lambda y: clf.predict(y)[0]), 10)"
     ],
     "language": "python",
     "metadata": {},
     "outputs": [
      {
       "output_type": "stream",
       "stream": "stdout",
       "text": [
        "Agg accuracy 0.682500\n"
       ]
      },
      {
       "metadata": {},
       "output_type": "pyout",
       "prompt_number": 23,
       "text": [
        "0.6824999999999999"
       ]
      }
     ],
     "prompt_number": 23
    },
    {
     "cell_type": "code",
     "collapsed": false,
     "input": [
      "best_comp = components[:, 1:]\n",
      "clf = sklearn.svm.SVC(kernel='linear')\n",
      "nfold(best_comp, labels, clf.fit, clf.predict, 10)"
     ],
     "language": "python",
     "metadata": {},
     "outputs": [
      {
       "output_type": "stream",
       "stream": "stdout",
       "text": [
        "Agg accuracy 0.691875\n"
       ]
      },
      {
       "metadata": {},
       "output_type": "pyout",
       "prompt_number": 22,
       "text": [
        "0.6918750000000001"
       ]
      }
     ],
     "prompt_number": 22
    },
    {
     "cell_type": "code",
     "collapsed": false,
     "input": [
      "best_comp = components[:, 1:]\n",
      "clf = sklearn.svm.SVC(kernel='rbf')\n",
      "nfold(best_comp, labels, clf.fit, clf.predict, 10)"
     ],
     "language": "python",
     "metadata": {},
     "outputs": [
      {
       "output_type": "stream",
       "stream": "stdout",
       "text": [
        "Agg accuracy 0.607500\n"
       ]
      },
      {
       "metadata": {},
       "output_type": "pyout",
       "prompt_number": 182,
       "text": [
        "0.6075"
       ]
      }
     ],
     "prompt_number": 182
    },
    {
     "cell_type": "code",
     "collapsed": false,
     "input": [
      "best_comp = components[:, 1:]\n",
      "clf = sklearn.svm.SVC(kernel='linear')\n",
      "nfold(best_comp, labels, clf.fit, clf.predict, 10)"
     ],
     "language": "python",
     "metadata": {},
     "outputs": [
      {
       "output_type": "stream",
       "stream": "stdout",
       "text": [
        "Agg accuracy 0.688125\n"
       ]
      },
      {
       "metadata": {},
       "output_type": "pyout",
       "prompt_number": 178,
       "text": [
        "0.6881250000000001"
       ]
      }
     ],
     "prompt_number": 178
    },
    {
     "cell_type": "markdown",
     "metadata": {},
     "source": [
      "Testing by Trials"
     ]
    },
    {
     "cell_type": "code",
     "collapsed": false,
     "input": [
      "def nfold_epoch(eegdata, journal, train, classify):\n",
      "    g_accuracy = 0\n",
      "    num_epochs = len(eegdata.epochs)\n",
      "    # leave out the k'th epoch\n",
      "    for k in range(0, num_epochs):\n",
      "        l_accuracy = 0\n",
      "        train_feat = []\n",
      "        train_lab = []\n",
      "        test_feat = []\n",
      "        test_lab = []\n",
      "        for idx, (epoch, label) in enumerate(zip(eegdata.epochs, journal.epochType)):\n",
      "            for trial in epoch:\n",
      "                # split trials into 4 groups\n",
      "                time_slices = np.array_split(trial, 4, axis=0)\n",
      "                for tslice in time_slices:\n",
      "                    if idx != k:\n",
      "                        train_feat.append(tslice.mean(axis=0))\n",
      "                        train_lab.append(label)\n",
      "                    else:\n",
      "                        test_feat.append(tslice.mean(axis=0))\n",
      "                        test_lab.append(label)\n",
      " \n",
      "        train(train_feat, train_lab)\n",
      "        for (test_point, label) in zip(train_feat, train_lab):\n",
      "            if classify(test_point) == label:\n",
      "                l_accuracy += 1.0\n",
      "        \n",
      "        l_accuracy = l_accuracy/len(train_feat)\n",
      "        print \"Local accuracy %f\" % l_accuracy\n",
      "        g_accuracy += (l_accuracy * 1.0/num_epochs)\n",
      "    return g_accuracy\n",
      "    \n",
      "        \n",
      "\n",
      "            "
     ],
     "language": "python",
     "metadata": {},
     "outputs": [],
     "prompt_number": 136
    },
    {
     "cell_type": "code",
     "collapsed": false,
     "input": [
      "clf = sklearn.svm.SVC()\n",
      "print nfold_epoch(data, journal, clf.fit, clf.predict)"
     ],
     "language": "python",
     "metadata": {},
     "outputs": [
      {
       "output_type": "stream",
       "stream": "stdout",
       "text": [
        "Local accuracy 0.626429\n",
        "Local accuracy 0.624286"
       ]
      },
      {
       "output_type": "stream",
       "stream": "stdout",
       "text": [
        "\n",
        "Local accuracy 0.630714"
       ]
      },
      {
       "output_type": "stream",
       "stream": "stdout",
       "text": [
        "\n",
        "Local accuracy 0.632143"
       ]
      },
      {
       "output_type": "stream",
       "stream": "stdout",
       "text": [
        "\n",
        "Local accuracy 0.632143"
       ]
      },
      {
       "output_type": "stream",
       "stream": "stdout",
       "text": [
        "\n",
        "Local accuracy 0.626429"
       ]
      },
      {
       "output_type": "stream",
       "stream": "stdout",
       "text": [
        "\n",
        "Local accuracy 0.627143"
       ]
      },
      {
       "output_type": "stream",
       "stream": "stdout",
       "text": [
        "\n",
        "Local accuracy 0.626429"
       ]
      },
      {
       "output_type": "stream",
       "stream": "stdout",
       "text": [
        "\n",
        "0.628214285714\n"
       ]
      }
     ],
     "prompt_number": 137
    },
    {
     "cell_type": "code",
     "collapsed": false,
     "input": [
      "train_feat = []\n",
      "train_lab = []\n",
      "test_feat = []\n",
      "test_lab = []\n",
      "for idx, epoch in enumerate(data.epochs):\n",
      "    for trial in epoch:\n",
      "        binned_data = np.array_split(trial[:, 3:17], 4, axis=0)\n",
      "        if idx < 6:\n",
      "            for point in binned_data:\n",
      "                train_feat.append(point.mean(axis=0))\n",
      "                train_lab.append(journal.epochType[idx])\n",
      "\n",
      "        else:\n",
      "            for point in binned_data:\n",
      "                test_feat.append(point.mean(axis=0))\n",
      "                test_lab.append(journal.epochType[idx])\n",
      "\n",
      "            "
     ],
     "language": "python",
     "metadata": {},
     "outputs": [],
     "prompt_number": 61
    },
    {
     "cell_type": "code",
     "collapsed": false,
     "input": [
      "clf = sklearn.linear_model.LogisticRegression()\n",
      "clf.fit(np.array(features_dm)[:1200, :], labels_dm[:1200])"
     ],
     "language": "python",
     "metadata": {},
     "outputs": [
      {
       "ename": "ValueError",
       "evalue": "The number of classes has to be greater than one.",
       "output_type": "pyerr",
       "traceback": [
        "\u001b[0;31m---------------------------------------------------------------------------\u001b[0m\n\u001b[0;31mValueError\u001b[0m                                Traceback (most recent call last)",
        "\u001b[0;32m<ipython-input-99-0c904449a6ca>\u001b[0m in \u001b[0;36m<module>\u001b[0;34m()\u001b[0m\n\u001b[1;32m      1\u001b[0m \u001b[0mclf\u001b[0m \u001b[0;34m=\u001b[0m \u001b[0msklearn\u001b[0m\u001b[0;34m.\u001b[0m\u001b[0mlinear_model\u001b[0m\u001b[0;34m.\u001b[0m\u001b[0mLogisticRegression\u001b[0m\u001b[0;34m(\u001b[0m\u001b[0;34m)\u001b[0m\u001b[0;34m\u001b[0m\u001b[0m\n\u001b[0;32m----> 2\u001b[0;31m \u001b[0mclf\u001b[0m\u001b[0;34m.\u001b[0m\u001b[0mfit\u001b[0m\u001b[0;34m(\u001b[0m\u001b[0mnp\u001b[0m\u001b[0;34m.\u001b[0m\u001b[0marray\u001b[0m\u001b[0;34m(\u001b[0m\u001b[0mfeatures_dm\u001b[0m\u001b[0;34m)\u001b[0m\u001b[0;34m[\u001b[0m\u001b[0;34m:\u001b[0m\u001b[0;36m1200\u001b[0m\u001b[0;34m,\u001b[0m \u001b[0;34m:\u001b[0m\u001b[0;34m]\u001b[0m\u001b[0;34m,\u001b[0m \u001b[0mlabels_dm\u001b[0m\u001b[0;34m[\u001b[0m\u001b[0;34m:\u001b[0m\u001b[0;36m1200\u001b[0m\u001b[0;34m]\u001b[0m\u001b[0;34m)\u001b[0m\u001b[0;34m\u001b[0m\u001b[0m\n\u001b[0m",
        "\u001b[0;32m/Library/Python/2.7/site-packages/sklearn/svm/base.pyc\u001b[0m in \u001b[0;36mfit\u001b[0;34m(self, X, y)\u001b[0m\n\u001b[1;32m    674\u001b[0m         \u001b[0my_ind\u001b[0m \u001b[0;34m=\u001b[0m \u001b[0mself\u001b[0m\u001b[0;34m.\u001b[0m\u001b[0m_enc\u001b[0m\u001b[0;34m.\u001b[0m\u001b[0mfit_transform\u001b[0m\u001b[0;34m(\u001b[0m\u001b[0my\u001b[0m\u001b[0;34m)\u001b[0m\u001b[0;34m\u001b[0m\u001b[0m\n\u001b[1;32m    675\u001b[0m         \u001b[0;32mif\u001b[0m \u001b[0mlen\u001b[0m\u001b[0;34m(\u001b[0m\u001b[0mself\u001b[0m\u001b[0;34m.\u001b[0m\u001b[0mclasses_\u001b[0m\u001b[0;34m)\u001b[0m \u001b[0;34m<\u001b[0m \u001b[0;36m2\u001b[0m\u001b[0;34m:\u001b[0m\u001b[0;34m\u001b[0m\u001b[0m\n\u001b[0;32m--> 676\u001b[0;31m             raise ValueError(\"The number of classes has to be greater than\"\n\u001b[0m\u001b[1;32m    677\u001b[0m                              \" one.\")\n\u001b[1;32m    678\u001b[0m \u001b[0;34m\u001b[0m\u001b[0m\n",
        "\u001b[0;31mValueError\u001b[0m: The number of classes has to be greater than one."
       ]
      }
     ],
     "prompt_number": 99
    },
    {
     "cell_type": "code",
     "collapsed": false,
     "input": [
      "lala, axes = plt.subplots(2, sharey=True)\n",
      "axes[0].plot(features)\n",
      "axes[1].plot(signal.detrend(features))"
     ],
     "language": "python",
     "metadata": {},
     "outputs": [
      {
       "metadata": {},
       "output_type": "pyout",
       "prompt_number": 115,
       "text": [
        "[<matplotlib.lines.Line2D at 0x10cc88ed0>,\n",
        " <matplotlib.lines.Line2D at 0x10ccb6d50>,\n",
        " <matplotlib.lines.Line2D at 0x10ccb6ed0>,\n",
        " <matplotlib.lines.Line2D at 0x10ccb9090>,\n",
        " <matplotlib.lines.Line2D at 0x10ccb9210>,\n",
        " <matplotlib.lines.Line2D at 0x10ccb9390>,\n",
        " <matplotlib.lines.Line2D at 0x10ccb9510>,\n",
        " <matplotlib.lines.Line2D at 0x10cc91fd0>,\n",
        " <matplotlib.lines.Line2D at 0x10ccb9810>,\n",
        " <matplotlib.lines.Line2D at 0x10ccb9990>,\n",
        " <matplotlib.lines.Line2D at 0x10ccb9b10>,\n",
        " <matplotlib.lines.Line2D at 0x10ccb9c90>,\n",
        " <matplotlib.lines.Line2D at 0x10ccb9e10>,\n",
        " <matplotlib.lines.Line2D at 0x10ccb9f90>]"
       ]
      },
      {
       "metadata": {},
       "output_type": "display_data",
       "png": "[encoded data removed]",
       "text": [
        "<matplotlib.figure.Figure at 0x110b60f10>"
       ]
      }
     ],
     "prompt_number": 115
    },
    {
     "cell_type": "code",
     "collapsed": false,
     "input": [
      "feat_dt = feat_dt.\n",
      "acc_g = 0\n",
      "clf = sklearn.svm.SVC()\n",
      "clf.fit(features[100:1200, :], feat[100:1200])\n",
      "for (feat, lab) in zip(np.array(feat_dt)[200:1200, :], labels[200:1200]):\n",
      "    if clf.predict(feat) == lab:\n",
      "        acc_g += 1.0\n",
      "\n",
      "return acc_g/1200"
     ],
     "language": "python",
     "metadata": {},
     "outputs": [
      {
       "ename": "TypeError",
       "evalue": "list indices must be integers, not tuple",
       "output_type": "pyerr",
       "traceback": [
        "\u001b[0;31m---------------------------------------------------------------------------\u001b[0m\n\u001b[0;31mTypeError\u001b[0m                                 Traceback (most recent call last)",
        "\u001b[0;32m<ipython-input-162-7f7e942504c8>\u001b[0m in \u001b[0;36m<module>\u001b[0;34m()\u001b[0m\n\u001b[1;32m      2\u001b[0m \u001b[0macc_g\u001b[0m \u001b[0;34m=\u001b[0m \u001b[0;36m0\u001b[0m\u001b[0;34m\u001b[0m\u001b[0m\n\u001b[1;32m      3\u001b[0m \u001b[0mclf\u001b[0m \u001b[0;34m=\u001b[0m \u001b[0msklearn\u001b[0m\u001b[0;34m.\u001b[0m\u001b[0msvm\u001b[0m\u001b[0;34m.\u001b[0m\u001b[0mSVC\u001b[0m\u001b[0;34m(\u001b[0m\u001b[0;34m)\u001b[0m\u001b[0;34m\u001b[0m\u001b[0m\n\u001b[0;32m----> 4\u001b[0;31m \u001b[0mclf\u001b[0m\u001b[0;34m.\u001b[0m\u001b[0mfit\u001b[0m\u001b[0;34m(\u001b[0m\u001b[0mfeatures\u001b[0m\u001b[0;34m[\u001b[0m\u001b[0;36m100\u001b[0m\u001b[0;34m:\u001b[0m\u001b[0;36m1200\u001b[0m\u001b[0;34m,\u001b[0m \u001b[0;34m:\u001b[0m\u001b[0;34m]\u001b[0m\u001b[0;34m,\u001b[0m \u001b[0mfeat\u001b[0m\u001b[0;34m[\u001b[0m\u001b[0;36m100\u001b[0m\u001b[0;34m:\u001b[0m\u001b[0;36m1200\u001b[0m\u001b[0;34m]\u001b[0m\u001b[0;34m)\u001b[0m\u001b[0;34m\u001b[0m\u001b[0m\n\u001b[0m\u001b[1;32m      5\u001b[0m \u001b[0;32mfor\u001b[0m \u001b[0;34m(\u001b[0m\u001b[0mfeat\u001b[0m\u001b[0;34m,\u001b[0m \u001b[0mlab\u001b[0m\u001b[0;34m)\u001b[0m \u001b[0;32min\u001b[0m \u001b[0mzip\u001b[0m\u001b[0;34m(\u001b[0m\u001b[0mnp\u001b[0m\u001b[0;34m.\u001b[0m\u001b[0marray\u001b[0m\u001b[0;34m(\u001b[0m\u001b[0mfeat_dt\u001b[0m\u001b[0;34m)\u001b[0m\u001b[0;34m[\u001b[0m\u001b[0;36m200\u001b[0m\u001b[0;34m:\u001b[0m\u001b[0;36m1200\u001b[0m\u001b[0;34m,\u001b[0m \u001b[0;34m:\u001b[0m\u001b[0;34m]\u001b[0m\u001b[0;34m,\u001b[0m \u001b[0mlabels\u001b[0m\u001b[0;34m[\u001b[0m\u001b[0;36m200\u001b[0m\u001b[0;34m:\u001b[0m\u001b[0;36m1200\u001b[0m\u001b[0;34m]\u001b[0m\u001b[0;34m)\u001b[0m\u001b[0;34m:\u001b[0m\u001b[0;34m\u001b[0m\u001b[0m\n\u001b[1;32m      6\u001b[0m     \u001b[0;32mif\u001b[0m \u001b[0mclf\u001b[0m\u001b[0;34m.\u001b[0m\u001b[0mpredict\u001b[0m\u001b[0;34m(\u001b[0m\u001b[0mfeat\u001b[0m\u001b[0;34m)\u001b[0m \u001b[0;34m==\u001b[0m \u001b[0mlab\u001b[0m\u001b[0;34m:\u001b[0m\u001b[0;34m\u001b[0m\u001b[0m\n",
        "\u001b[0;31mTypeError\u001b[0m: list indices must be integers, not tuple"
       ]
      }
     ],
     "prompt_number": 162
    },
    {
     "cell_type": "code",
     "collapsed": false,
     "input": [
      "def leave_out_last_k(epochdata, journal, train, classify, k):\n",
      "    train_feat = []\n",
      "    train_lab = []\n",
      "    test_feat = []\n",
      "    test_lab = []\n",
      "    for idx, epoch in enumerate(epochdata[:k]):\n",
      "        for trial in epoch:\n",
      "            train_feat.append(trial)\n",
      "            train_lab.append(journal.epochType[idx])\n",
      "            \n",
      "    for idx, epoch in enumerate(epochdata[k:]):\n",
      "        for trial in epoch:\n",
      "            test_feat.append(trial)\n",
      "            test_lab.append(journal.epochType[idx])\n",
      "\n",
      "    acc = 0\n",
      "    train(train_feat, train_lab)\n",
      "    \n",
      "    for (feat, lab) in zip(test_feat, test_lab):\n",
      "        if classify(feat) == lab:\n",
      "            acc += 1.0\n",
      "\n",
      "    return acc_g/len(test_feat)"
     ],
     "language": "python",
     "metadata": {},
     "outputs": [],
     "prompt_number": 146
    },
    {
     "cell_type": "code",
     "collapsed": false,
     "input": [
      "k_dim_pca(features, leave_out_last_2, 14)"
     ],
     "language": "python",
     "metadata": {},
     "outputs": [
      {
       "metadata": {},
       "output_type": "pyout",
       "prompt_number": 147,
       "text": [
        "([0.3775,\n",
        "  0.6375,\n",
        "  0.4075,\n",
        "  0.41,\n",
        "  0.4475,\n",
        "  0.3725,\n",
        "  0.385,\n",
        "  0.4325,\n",
        "  0.3825,\n",
        "  0.4075,\n",
        "  0.4975,\n",
        "  0.465,\n",
        "  0.3625,\n",
        "  0.445],\n",
        " array([[  -1.82069998,  102.0961761 ,  -32.21497728, ...,   -1.93570035,\n",
        "           -2.45994264,    2.57340951],\n",
        "        [ -13.39576751,   87.5331451 ,  -59.70991539, ...,    1.36677195,\n",
        "           -3.45007737,   -0.27848025],\n",
        "        [ -36.86048155,   86.52660087,  -76.67147623, ...,    2.0316306 ,\n",
        "           -2.81989658,   -6.81300721],\n",
        "        ..., \n",
        "        [  54.88077844,  -26.77918442,   -4.59370508, ...,   -8.90671592,\n",
        "           -0.56337295,   -3.51340191],\n",
        "        [  62.92387011,  -25.09231105,   -6.7637213 , ...,  -10.89667019,\n",
        "           -1.77296529,   -3.78424785],\n",
        "        [  70.79560453,  -27.92726395,   -5.51019726, ...,   -9.43113586,\n",
        "           -3.25308543,   -2.99615758]]))"
       ]
      }
     ],
     "prompt_number": 147
    },
    {
     "cell_type": "code",
     "collapsed": false,
     "input": [
      "def leave_out_last_2(feat_dt):\n",
      "    acc_g = 0\n",
      "    clf = tree.DecisionTreeClassifier()\n",
      "    clf.fit(feat_dt[:1200, :], labels[:1200])\n",
      "    for (feat, lab) in zip(np.array(feat_dt)[1200:, :], labels[1200:]):\n",
      "        if clf.predict(feat) == lab:\n",
      "            acc_g += 1.0\n",
      "\n",
      "    return acc_g/400"
     ],
     "language": "python",
     "metadata": {},
     "outputs": [],
     "prompt_number": 156
    },
    {
     "cell_type": "code",
     "collapsed": false,
     "input": [
      "leave_out_last_2(signal.detrend(np.array(features), axis=0))"
     ],
     "language": "python",
     "metadata": {},
     "outputs": [
      {
       "metadata": {},
       "output_type": "pyout",
       "prompt_number": 166,
       "text": [
        "0.53"
       ]
      }
     ],
     "prompt_number": 166
    },
    {
     "cell_type": "code",
     "collapsed": false,
     "input": [
      "k_dim_pca(signal.detrend(features, axis=0), leave_out_last_2, 14)"
     ],
     "language": "python",
     "metadata": {},
     "outputs": [
      {
       "metadata": {},
       "output_type": "pyout",
       "prompt_number": 167,
       "text": [
        "([0.41,\n",
        "  0.555,\n",
        "  0.4675,\n",
        "  0.5175,\n",
        "  0.52,\n",
        "  0.4425,\n",
        "  0.465,\n",
        "  0.47,\n",
        "  0.4825,\n",
        "  0.515,\n",
        "  0.525,\n",
        "  0.425,\n",
        "  0.4675,\n",
        "  0.545],\n",
        " array([[  14.7167352 ,   89.11126215,   13.98955674, ...,    0.59796002,\n",
        "            3.39287369,   -3.04318649],\n",
        "        [   2.72194885,   93.22018666,  -13.20419464, ...,   -3.01676205,\n",
        "            4.8987384 ,   -0.33658289],\n",
        "        [ -20.80464015,  104.73232382,  -24.55688615, ...,   -3.60290248,\n",
        "            4.45211648,    6.23654169],\n",
        "        ..., \n",
        "        [  40.49757701,   -3.08462653,   -6.5032247 , ...,    9.13632062,\n",
        "            0.13883538,    3.58354128],\n",
        "        [  48.55888602,    0.96588978,   -6.00202218, ...,   11.05355839,\n",
        "            1.30336492,    3.81740064],\n",
        "        [  56.32432673,   -3.28828095,   -7.45474694, ...,    9.96573765,\n",
        "            2.64821273,    3.02157161]]))"
       ]
      }
     ],
     "prompt_number": 167
    }
   ],
   "metadata": {}
  }
 ]
}